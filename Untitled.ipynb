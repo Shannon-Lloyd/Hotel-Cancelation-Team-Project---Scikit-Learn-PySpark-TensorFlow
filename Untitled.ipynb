{
 "cells": [
  {
   "cell_type": "markdown",
   "id": "2a44e294-d54e-4a0d-a5ed-117f67206529",
   "metadata": {},
   "source": [
    "Advantages of This Approach\n",
    "Flexibility: Python and its libraries offer great flexibility for data manipulation and analysis.\n",
    "All-in-one: Your entire workflow, from data preparation to model training, can be done within a single environment.\n",
    "Scalability: While Pandas is in-memory and suitable for small to medium-sized datasets, for larger datasets, you can integrate with tools like Dask or use cloud-based solutions.\n",
    "This approach provides a seamless pipeline from data loading to model deployment, all within the Python ecosystem, making it efficient and highly customizable to your specific needs."
   ]
  },
  {
   "cell_type": "code",
   "execution_count": 2,
   "id": "d5fec20f-2190-4a7d-8873-72a059edf2d7",
   "metadata": {
    "tags": []
   },
   "outputs": [],
   "source": [
    "import pandas as pd"
   ]
  },
  {
   "cell_type": "code",
   "execution_count": 4,
   "id": "016c6290-847e-4929-bee5-53326d450f69",
   "metadata": {
    "tags": []
   },
   "outputs": [],
   "source": [
    "df = pd.read_csv('Resources/INNHotelsGroup.csv')"
   ]
  },
  {
   "cell_type": "code",
   "execution_count": 5,
   "id": "c10a6dc5-f037-45a8-815c-0a6c4b9e5a4a",
   "metadata": {
    "tags": []
   },
   "outputs": [
    {
     "data": {
      "text/html": [
       "<div>\n",
       "<style scoped>\n",
       "    .dataframe tbody tr th:only-of-type {\n",
       "        vertical-align: middle;\n",
       "    }\n",
       "\n",
       "    .dataframe tbody tr th {\n",
       "        vertical-align: top;\n",
       "    }\n",
       "\n",
       "    .dataframe thead th {\n",
       "        text-align: right;\n",
       "    }\n",
       "</style>\n",
       "<table border=\"1\" class=\"dataframe\">\n",
       "  <thead>\n",
       "    <tr style=\"text-align: right;\">\n",
       "      <th></th>\n",
       "      <th>Booking_ID</th>\n",
       "      <th>no_of_adults</th>\n",
       "      <th>no_of_children</th>\n",
       "      <th>no_of_weekend_nights</th>\n",
       "      <th>no_of_week_nights</th>\n",
       "      <th>type_of_meal_plan</th>\n",
       "      <th>required_car_parking_space</th>\n",
       "      <th>room_type_reserved</th>\n",
       "      <th>lead_time</th>\n",
       "      <th>arrival_year</th>\n",
       "      <th>arrival_month</th>\n",
       "      <th>arrival_date</th>\n",
       "      <th>market_segment_type</th>\n",
       "      <th>repeated_guest</th>\n",
       "      <th>no_of_previous_cancellations</th>\n",
       "      <th>no_of_previous_bookings_not_canceled</th>\n",
       "      <th>avg_price_per_room</th>\n",
       "      <th>no_of_special_requests</th>\n",
       "      <th>booking_status</th>\n",
       "    </tr>\n",
       "  </thead>\n",
       "  <tbody>\n",
       "    <tr>\n",
       "      <th>0</th>\n",
       "      <td>INN00001</td>\n",
       "      <td>2</td>\n",
       "      <td>0</td>\n",
       "      <td>1</td>\n",
       "      <td>2</td>\n",
       "      <td>Meal Plan 1</td>\n",
       "      <td>0</td>\n",
       "      <td>Room_Type 1</td>\n",
       "      <td>224</td>\n",
       "      <td>2017</td>\n",
       "      <td>10</td>\n",
       "      <td>2</td>\n",
       "      <td>Offline</td>\n",
       "      <td>0</td>\n",
       "      <td>0</td>\n",
       "      <td>0</td>\n",
       "      <td>65.00</td>\n",
       "      <td>0</td>\n",
       "      <td>Not_Canceled</td>\n",
       "    </tr>\n",
       "    <tr>\n",
       "      <th>1</th>\n",
       "      <td>INN00002</td>\n",
       "      <td>2</td>\n",
       "      <td>0</td>\n",
       "      <td>2</td>\n",
       "      <td>3</td>\n",
       "      <td>Not Selected</td>\n",
       "      <td>0</td>\n",
       "      <td>Room_Type 1</td>\n",
       "      <td>5</td>\n",
       "      <td>2018</td>\n",
       "      <td>11</td>\n",
       "      <td>6</td>\n",
       "      <td>Online</td>\n",
       "      <td>0</td>\n",
       "      <td>0</td>\n",
       "      <td>0</td>\n",
       "      <td>106.68</td>\n",
       "      <td>1</td>\n",
       "      <td>Not_Canceled</td>\n",
       "    </tr>\n",
       "    <tr>\n",
       "      <th>2</th>\n",
       "      <td>INN00003</td>\n",
       "      <td>1</td>\n",
       "      <td>0</td>\n",
       "      <td>2</td>\n",
       "      <td>1</td>\n",
       "      <td>Meal Plan 1</td>\n",
       "      <td>0</td>\n",
       "      <td>Room_Type 1</td>\n",
       "      <td>1</td>\n",
       "      <td>2018</td>\n",
       "      <td>2</td>\n",
       "      <td>28</td>\n",
       "      <td>Online</td>\n",
       "      <td>0</td>\n",
       "      <td>0</td>\n",
       "      <td>0</td>\n",
       "      <td>60.00</td>\n",
       "      <td>0</td>\n",
       "      <td>Canceled</td>\n",
       "    </tr>\n",
       "    <tr>\n",
       "      <th>3</th>\n",
       "      <td>INN00004</td>\n",
       "      <td>2</td>\n",
       "      <td>0</td>\n",
       "      <td>0</td>\n",
       "      <td>2</td>\n",
       "      <td>Meal Plan 1</td>\n",
       "      <td>0</td>\n",
       "      <td>Room_Type 1</td>\n",
       "      <td>211</td>\n",
       "      <td>2018</td>\n",
       "      <td>5</td>\n",
       "      <td>20</td>\n",
       "      <td>Online</td>\n",
       "      <td>0</td>\n",
       "      <td>0</td>\n",
       "      <td>0</td>\n",
       "      <td>100.00</td>\n",
       "      <td>0</td>\n",
       "      <td>Canceled</td>\n",
       "    </tr>\n",
       "    <tr>\n",
       "      <th>4</th>\n",
       "      <td>INN00005</td>\n",
       "      <td>2</td>\n",
       "      <td>0</td>\n",
       "      <td>1</td>\n",
       "      <td>1</td>\n",
       "      <td>Not Selected</td>\n",
       "      <td>0</td>\n",
       "      <td>Room_Type 1</td>\n",
       "      <td>48</td>\n",
       "      <td>2018</td>\n",
       "      <td>4</td>\n",
       "      <td>11</td>\n",
       "      <td>Online</td>\n",
       "      <td>0</td>\n",
       "      <td>0</td>\n",
       "      <td>0</td>\n",
       "      <td>94.50</td>\n",
       "      <td>0</td>\n",
       "      <td>Canceled</td>\n",
       "    </tr>\n",
       "  </tbody>\n",
       "</table>\n",
       "</div>"
      ],
      "text/plain": [
       "  Booking_ID  no_of_adults  no_of_children  no_of_weekend_nights  \\\n",
       "0   INN00001             2               0                     1   \n",
       "1   INN00002             2               0                     2   \n",
       "2   INN00003             1               0                     2   \n",
       "3   INN00004             2               0                     0   \n",
       "4   INN00005             2               0                     1   \n",
       "\n",
       "   no_of_week_nights type_of_meal_plan  required_car_parking_space  \\\n",
       "0                  2       Meal Plan 1                           0   \n",
       "1                  3      Not Selected                           0   \n",
       "2                  1       Meal Plan 1                           0   \n",
       "3                  2       Meal Plan 1                           0   \n",
       "4                  1      Not Selected                           0   \n",
       "\n",
       "  room_type_reserved  lead_time  arrival_year  arrival_month  arrival_date  \\\n",
       "0        Room_Type 1        224          2017             10             2   \n",
       "1        Room_Type 1          5          2018             11             6   \n",
       "2        Room_Type 1          1          2018              2            28   \n",
       "3        Room_Type 1        211          2018              5            20   \n",
       "4        Room_Type 1         48          2018              4            11   \n",
       "\n",
       "  market_segment_type  repeated_guest  no_of_previous_cancellations  \\\n",
       "0             Offline               0                             0   \n",
       "1              Online               0                             0   \n",
       "2              Online               0                             0   \n",
       "3              Online               0                             0   \n",
       "4              Online               0                             0   \n",
       "\n",
       "   no_of_previous_bookings_not_canceled  avg_price_per_room  \\\n",
       "0                                     0               65.00   \n",
       "1                                     0              106.68   \n",
       "2                                     0               60.00   \n",
       "3                                     0              100.00   \n",
       "4                                     0               94.50   \n",
       "\n",
       "   no_of_special_requests booking_status  \n",
       "0                       0   Not_Canceled  \n",
       "1                       1   Not_Canceled  \n",
       "2                       0       Canceled  \n",
       "3                       0       Canceled  \n",
       "4                       0       Canceled  "
      ]
     },
     "execution_count": 5,
     "metadata": {},
     "output_type": "execute_result"
    }
   ],
   "source": [
    "df.head()"
   ]
  },
  {
   "cell_type": "code",
   "execution_count": 2,
   "id": "c30c66c8-9b2d-4cb3-a0fd-8f6c5fc957f7",
   "metadata": {},
   "outputs": [
    {
     "name": "stderr",
     "output_type": "stream",
     "text": [
      "Setting default log level to \"WARN\".\n",
      "To adjust logging level use sc.setLogLevel(newLevel). For SparkR, use setLogLevel(newLevel).\n",
      "23/11/16 17:52:17 WARN NativeCodeLoader: Unable to load native-hadoop library for your platform... using builtin-java classes where applicable\n"
     ]
    }
   ],
   "source": [
    "# Import findspark and initialize. \n",
    "import findspark\n",
    "findspark.init()\n",
    "\n",
    "# Import packages\n",
    "from pyspark.sql import SparkSession\n",
    "import time\n",
    "\n",
    "# Create a SparkSession\n",
    "spark = SparkSession.builder.appName(\"SparkSQL\").getOrCreate()"
   ]
  },
  {
   "cell_type": "code",
   "execution_count": 5,
   "id": "35c86109-3a8a-4601-8161-8a7d8b243bde",
   "metadata": {},
   "outputs": [
    {
     "name": "stderr",
     "output_type": "stream",
     "text": [
      "23/11/16 17:55:19 WARN SparkContext: The path Resources/INNHotelsGroup.csv has been added already. Overwriting of added paths is not supported in the current version.\n"
     ]
    },
    {
     "name": "stdout",
     "output_type": "stream",
     "text": [
      "+----------+------------+--------------+--------------------+-----------------+-----------------+--------------------------+------------------+---------+------------+-------------+------------+-------------------+--------------+----------------------------+------------------------------------+------------------+----------------------+--------------+\n",
      "|Booking_ID|no_of_adults|no_of_children|no_of_weekend_nights|no_of_week_nights|type_of_meal_plan|required_car_parking_space|room_type_reserved|lead_time|arrival_year|arrival_month|arrival_date|market_segment_type|repeated_guest|no_of_previous_cancellations|no_of_previous_bookings_not_canceled|avg_price_per_room|no_of_special_requests|booking_status|\n",
      "+----------+------------+--------------+--------------------+-----------------+-----------------+--------------------------+------------------+---------+------------+-------------+------------+-------------------+--------------+----------------------------+------------------------------------+------------------+----------------------+--------------+\n",
      "|  INN00001|           2|             0|                   1|                2|      Meal Plan 1|                         0|       Room_Type 1|      224|        2017|           10|           2|            Offline|             0|                           0|                                   0|                65|                     0|  Not_Canceled|\n",
      "|  INN00002|           2|             0|                   2|                3|     Not Selected|                         0|       Room_Type 1|        5|        2018|           11|           6|             Online|             0|                           0|                                   0|            106.68|                     1|  Not_Canceled|\n",
      "|  INN00003|           1|             0|                   2|                1|      Meal Plan 1|                         0|       Room_Type 1|        1|        2018|            2|          28|             Online|             0|                           0|                                   0|                60|                     0|      Canceled|\n",
      "|  INN00004|           2|             0|                   0|                2|      Meal Plan 1|                         0|       Room_Type 1|      211|        2018|            5|          20|             Online|             0|                           0|                                   0|               100|                     0|      Canceled|\n",
      "|  INN00005|           2|             0|                   1|                1|     Not Selected|                         0|       Room_Type 1|       48|        2018|            4|          11|             Online|             0|                           0|                                   0|              94.5|                     0|      Canceled|\n",
      "|  INN00006|           2|             0|                   0|                2|      Meal Plan 2|                         0|       Room_Type 1|      346|        2018|            9|          13|             Online|             0|                           0|                                   0|               115|                     1|      Canceled|\n",
      "|  INN00007|           2|             0|                   1|                3|      Meal Plan 1|                         0|       Room_Type 1|       34|        2017|           10|          15|             Online|             0|                           0|                                   0|            107.55|                     1|  Not_Canceled|\n",
      "|  INN00008|           2|             0|                   1|                3|      Meal Plan 1|                         0|       Room_Type 4|       83|        2018|           12|          26|             Online|             0|                           0|                                   0|            105.61|                     1|  Not_Canceled|\n",
      "|  INN00009|           3|             0|                   0|                4|      Meal Plan 1|                         0|       Room_Type 1|      121|        2018|            7|           6|            Offline|             0|                           0|                                   0|              96.9|                     1|  Not_Canceled|\n",
      "|  INN00010|           2|             0|                   0|                5|      Meal Plan 1|                         0|       Room_Type 4|       44|        2018|           10|          18|             Online|             0|                           0|                                   0|            133.44|                     3|  Not_Canceled|\n",
      "|  INN00011|           1|             0|                   1|                0|     Not Selected|                         0|       Room_Type 1|        0|        2018|            9|          11|             Online|             0|                           0|                                   0|             85.03|                     0|  Not_Canceled|\n",
      "|  INN00012|           1|             0|                   2|                1|      Meal Plan 1|                         0|       Room_Type 4|       35|        2018|            4|          30|             Online|             0|                           0|                                   0|             140.4|                     1|  Not_Canceled|\n",
      "|  INN00013|           2|             0|                   2|                1|     Not Selected|                         0|       Room_Type 1|       30|        2018|           11|          26|             Online|             0|                           0|                                   0|                88|                     0|      Canceled|\n",
      "|  INN00014|           1|             0|                   2|                0|      Meal Plan 1|                         0|       Room_Type 1|       95|        2018|           11|          20|             Online|             0|                           0|                                   0|                90|                     2|      Canceled|\n",
      "|  INN00015|           2|             0|                   0|                2|      Meal Plan 1|                         0|       Room_Type 1|       47|        2017|           10|          20|             Online|             0|                           0|                                   0|              94.5|                     2|  Not_Canceled|\n",
      "|  INN00016|           2|             0|                   0|                2|      Meal Plan 2|                         0|       Room_Type 1|      256|        2018|            6|          15|             Online|             0|                           0|                                   0|               115|                     1|      Canceled|\n",
      "|  INN00017|           1|             0|                   1|                0|      Meal Plan 1|                         0|       Room_Type 1|        0|        2017|           10|           5|            Offline|             0|                           0|                                   0|                96|                     0|  Not_Canceled|\n",
      "|  INN00018|           2|             0|                   1|                3|     Not Selected|                         0|       Room_Type 1|        1|        2017|            8|          10|             Online|             0|                           0|                                   0|                96|                     1|  Not_Canceled|\n",
      "|  INN00019|           2|             0|                   2|                2|      Meal Plan 1|                         0|       Room_Type 1|       99|        2017|           10|          30|             Online|             0|                           0|                                   0|                65|                     0|      Canceled|\n",
      "|  INN00020|           2|             0|                   1|                0|      Meal Plan 1|                         0|       Room_Type 1|       12|        2017|           10|           4|            Offline|             0|                           0|                                   0|                72|                     0|  Not_Canceled|\n",
      "+----------+------------+--------------+--------------------+-----------------+-----------------+--------------------------+------------------+---------+------------+-------------+------------+-------------------+--------------+----------------------------+------------------------------------+------------------+----------------------+--------------+\n",
      "only showing top 20 rows\n",
      "\n"
     ]
    }
   ],
   "source": [
    "# Import CSV file utilizing PySpark\n",
    "path = 'Resources/INNHotelsGroup.csv'\n",
    "spark.sparkContext.addFile(path)\n",
    "df = spark.read.csv(path, header=True, sep=',')\n",
    "df.show()"
   ]
  },
  {
   "cell_type": "code",
   "execution_count": null,
   "id": "7b6d1e78-0d25-4c08-b35d-e3885fc74114",
   "metadata": {},
   "outputs": [],
   "source": [
    "# Data Analysis and Preparation\n",
    "from sklearn.model_selection import train_test_split\n",
    "X_train, X_test, y_train, y_test = train_test_split(df.drop('target_column', axis=1), df['target_column'], test_size=0.2)\n"
   ]
  },
  {
   "cell_type": "code",
   "execution_count": null,
   "id": "5effd8de-f101-45de-b70c-e6741c38111e",
   "metadata": {},
   "outputs": [],
   "source": [
    "# Machine Learning- use scikit-learn for building and training machine learning models"
   ]
  },
  {
   "cell_type": "code",
   "execution_count": null,
   "id": "c3431ae7-cb5f-4dce-bbaf-5ac6cc2ab820",
   "metadata": {},
   "outputs": [],
   "source": []
  },
  {
   "cell_type": "code",
   "execution_count": null,
   "id": "579719d4-5acf-4883-95da-bb309b64d2b1",
   "metadata": {},
   "outputs": [],
   "source": []
  },
  {
   "cell_type": "code",
   "execution_count": null,
   "id": "2e92c258-8773-4c8a-9ea4-e8c87b48c65d",
   "metadata": {},
   "outputs": [],
   "source": []
  }
 ],
 "metadata": {
  "kernelspec": {
   "display_name": "Python 3 (ipykernel)",
   "language": "python",
   "name": "python3"
  },
  "language_info": {
   "codemirror_mode": {
    "name": "ipython",
    "version": 3
   },
   "file_extension": ".py",
   "mimetype": "text/x-python",
   "name": "python",
   "nbconvert_exporter": "python",
   "pygments_lexer": "ipython3",
   "version": "3.10.11"
  }
 },
 "nbformat": 4,
 "nbformat_minor": 5
}
